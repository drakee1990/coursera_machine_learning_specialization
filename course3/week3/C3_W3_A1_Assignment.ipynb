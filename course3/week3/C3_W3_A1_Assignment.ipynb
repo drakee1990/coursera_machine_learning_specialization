{
 "cells": [
  {
   "cell_type": "markdown",
   "metadata": {},
   "source": [
    "# Deep Q-Learning - Lunar Lander\n",
    "\n",
    "In this assignment, you will train an agent to land a lunar lander safely on a landing pad on the surface of the moon.\n",
    "\n",
    "\n",
    "# Outline\n",
    "- [ 1 - Import Packages <img align=\"Right\" src=\"./images/lunar_lander.gif\" width = 60% >](#1)\n",
    "- [ 2 - Hyperparameters](#2)\n",
    "- [ 3 - The Lunar Lander Environment](#3)\n",
    "  - [ 3.1 Action Space](#3.1)\n",
    "  - [ 3.2 Observation Space](#3.2)\n",
    "  - [ 3.3 Rewards](#3.3)\n",
    "  - [ 3.4 Episode Termination](#3.4)\n",
    "- [ 4 - Load the Environment](#4)\n",
    "- [ 5 - Interacting with the Gym Environment](#5)\n",
    "    - [ 5.1 Exploring the Environment's Dynamics](#5.1)\n",
    "- [ 6 - Deep Q-Learning](#6)\n",
    "  - [ 6.1 Target Network](#6.1)\n",
    "    - [ Exercise 1](#ex01)\n",
    "  - [ 6.2 Experience Replay](#6.2)\n",
    "- [ 7 - Deep Q-Learning Algorithm with Experience Replay](#7)\n",
    "  - [ Exercise 2](#ex02)\n",
    "- [ 8 - Update the Network Weights](#8)\n",
    "- [ 9 - Train the Agent](#9)\n",
    "- [ 10 - See the Trained Agent In Action](#10)\n",
    "- [ 11 - Congratulations!](#11)\n",
    "- [ 12 - References](#12)\n"
   ]
  },
  {
   "cell_type": "markdown",
   "metadata": {},
   "source": [
    "_**NOTE:** To prevent errors from the autograder, you are not allowed to edit or delete non-graded cells in this lab. Please also refrain from adding any new cells. \n",
    "**Once you have passed this assignment** and want to experiment with any of the non-graded code, you may follow the instructions at the bottom of this notebook._"
   ]
  },
  {
   "cell_type": "markdown",
   "metadata": {},
   "source": [
    "<a name=\"1\"></a>\n",
    "## 1 - Import Packages\n",
    "\n",
    "We'll make use of the following packages:\n",
    "- `numpy` is a package for scientific computing in python.\n",
    "- `deque` will be our data structure for our memory buffer.\n",
    "- `namedtuple` will be used to store the experience tuples.\n",
    "- The `gym` toolkit is a collection of environments that can be used to test reinforcement learning algorithms. We should note that in this notebook we are using `gym` version `0.24.0`.\n",
    "- `PIL.Image` and `pyvirtualdisplay` are needed to render the Lunar Lander environment.\n",
    "- We will use several modules from the `tensorflow.keras` framework for building deep learning models.\n",
    "- `utils` is a module that contains helper functions for this assignment. You do not need to modify the code in this file.\n",
    "\n",
    "Run the cell below to import all the necessary packages."
   ]
  },
  {
   "cell_type": "code",
   "execution_count": 1,
   "metadata": {
    "deletable": false,
    "editable": false,
    "id": "KYbOPKRtfQOr"
   },
   "outputs": [],
   "source": [
    "import time\n",
    "from collections import deque, namedtuple\n",
    "\n",
    "import gym\n",
    "import numpy as np\n",
    "import PIL.Image\n",
    "import tensorflow as tf\n",
    "import utils\n",
    "\n",
    "from pyvirtualdisplay import Display\n",
    "from tensorflow.keras import Sequential\n",
    "from tensorflow.keras.layers import Dense, Input\n",
    "from tensorflow.keras.losses import MSE\n",
    "from tensorflow.keras.optimizers import Adam"
   ]
  },
  {
   "cell_type": "code",
   "execution_count": 2,
   "metadata": {
    "deletable": false,
    "editable": false
   },
   "outputs": [],
   "source": [
    "# Set up a virtual display to render the Lunar Lander environment.\n",
    "Display(visible=0, size=(840, 480)).start();\n",
    "\n",
    "# Set the random seed for TensorFlow\n",
    "tf.random.set_seed(utils.SEED)"
   ]
  },
  {
   "cell_type": "markdown",
   "metadata": {},
   "source": [
    "<a name=\"2\"></a>\n",
    "## 2 - Hyperparameters\n",
    "\n",
    "Run the cell below to set the hyperparameters."
   ]
  },
  {
   "cell_type": "code",
   "execution_count": 3,
   "metadata": {
    "deletable": false,
    "editable": false
   },
   "outputs": [],
   "source": [
    "MEMORY_SIZE = 100_000     # size of memory buffer\n",
    "GAMMA = 0.995             # discount factor\n",
    "ALPHA = 1e-3              # learning rate  \n",
    "NUM_STEPS_FOR_UPDATE = 4  # perform a learning update every C time steps"
   ]
  },
  {
   "cell_type": "markdown",
   "metadata": {},
   "source": [
    "<a name=\"3\"></a>\n",
    "## 3 - The Lunar Lander Environment\n",
    "\n",
    "In this notebook we will be using [OpenAI's Gym Library](https://www.gymlibrary.dev/). The Gym library provides a wide variety of environments for reinforcement learning. To put it simply, an environment represents a problem or task to be solved. In this notebook, we will try to solve the Lunar Lander environment using reinforcement learning.\n",
    "\n",
    "The goal of the Lunar Lander environment is to land the lunar lander safely on the landing pad on the surface of the moon. The landing pad is designated by two flag poles and its center is at coordinates `(0,0)` but the lander is also allowed to land outside of the landing pad. The lander starts at the top center of the environment with a random initial force applied to its center of mass and has infinite fuel. The environment is considered solved if you get `200` points. \n",
    "\n",
    "<br>\n",
    "<br>\n",
    "<figure>\n",
    "  <img src = \"images/lunar_lander.gif\" width = 40%>\n",
    "      <figcaption style = \"text-align: center; font-style: italic\">Fig 1. Lunar Lander Environment.</figcaption>\n",
    "</figure>\n",
    "\n",
    "\n",
    "\n",
    "<a name=\"3.1\"></a>\n",
    "### 3.1 Action Space\n",
    "\n",
    "The agent has four discrete actions available:\n",
    "\n",
    "* Do nothing.\n",
    "* Fire right engine.\n",
    "* Fire main engine.\n",
    "* Fire left engine.\n",
    "\n",
    "Each action has a corresponding numerical value:\n",
    "\n",
    "```python\n",
    "Do nothing = 0\n",
    "Fire right engine = 1\n",
    "Fire main engine = 2\n",
    "Fire left engine = 3\n",
    "```\n",
    "\n",
    "<a name=\"3.2\"></a>\n",
    "### 3.2 Observation Space\n",
    "\n",
    "The agent's observation space consists of a state vector with 8 variables:\n",
    "\n",
    "* Its $(x,y)$ coordinates. The landing pad is always at coordinates $(0,0)$.\n",
    "* Its linear velocities $(\\dot x,\\dot y)$.\n",
    "* Its angle $\\theta$.\n",
    "* Its angular velocity $\\dot \\theta$.\n",
    "* Two booleans, $l$ and $r$, that represent whether each leg is in contact with the ground or not.\n",
    "\n",
    "<a name=\"3.3\"></a>\n",
    "### 3.3 Rewards\n",
    "\n",
    "After every step, a reward is granted. The total reward of an episode is the sum of the rewards for all the steps within that episode.\n",
    "\n",
    "For each step, the reward:\n",
    "- is increased/decreased the closer/further the lander is to the landing pad.\n",
    "- is increased/decreased the slower/faster the lander is moving.\n",
    "- is decreased the more the lander is tilted (angle not horizontal).\n",
    "- is increased by 10 points for each leg that is in contact with the ground.\n",
    "- is decreased by 0.03 points each frame a side engine is firing.\n",
    "- is decreased by 0.3 points each frame the main engine is firing.\n",
    "\n",
    "The episode receives an additional reward of -100 or +100 points for crashing or landing safely respectively.\n",
    "\n",
    "<a name=\"3.4\"></a>\n",
    "### 3.4 Episode Termination\n",
    "\n",
    "An episode ends (i.e the environment enters a terminal state) if:\n",
    "\n",
    "* The lunar lander crashes (i.e if the body of the lunar lander comes in contact with the surface of the moon).\n",
    "\n",
    "* The absolute value of the lander's $x$-coordinate is greater than 1 (i.e. it goes beyond the left or right border)\n",
    "\n",
    "You can check out the [Open AI Gym documentation](https://www.gymlibrary.dev/environments/box2d/lunar_lander/) for a full description of the environment. "
   ]
  },
  {
   "cell_type": "markdown",
   "metadata": {},
   "source": [
    "<a name=\"4\"></a>\n",
    "## 4 - Load the Environment\n",
    "\n",
    "We start by loading the `LunarLander-v2` environment from the `gym` library by using the `.make()` method. `LunarLander-v2` is the latest version of the Lunar Lander environment and you can read about its version history in the [Open AI Gym documentation](https://www.gymlibrary.dev/environments/box2d/lunar_lander/#version-history)."
   ]
  },
  {
   "cell_type": "code",
   "execution_count": 4,
   "metadata": {
    "deletable": false,
    "editable": false,
    "id": "ILVMYKewfR0n"
   },
   "outputs": [],
   "source": [
    "env = gym.make('LunarLander-v2')"
   ]
  },
  {
   "cell_type": "markdown",
   "metadata": {},
   "source": [
    "Once we load the environment we use the `.reset()` method to reset the environment to the initial state. The lander starts at the top center of the environment and we can render the first frame of the environment by using the `.render()` method."
   ]
  },
  {
   "cell_type": "code",
   "execution_count": 5,
   "metadata": {
    "deletable": false,
    "editable": false
   },
   "outputs": [
    {
     "data": {
      "image/png": "[encoded data removed]",
      "text/plain": [
       "<PIL.Image.Image image mode=RGB size=600x400 at 0x7F22C7E05CD0>"
      ]
     },
     "execution_count": 5,
     "metadata": {},
     "output_type": "execute_result"
    }
   ],
   "source": [
    "env.reset()\n",
    "PIL.Image.fromarray(env.render(mode='rgb_array'))"
   ]
  },
  {
   "cell_type": "markdown",
   "metadata": {},
   "source": [
    "In order to build our neural network later on we need to know the size of the state vector and the number of valid actions. We can get this information from our environment by using the `.observation_space.shape` and `action_space.n` methods, respectively."
   ]
  },
  {
   "cell_type": "code",
   "execution_count": 6,
   "metadata": {
    "deletable": false,
    "editable": false,
    "id": "x3fdqdG4CUu2"
   },
   "outputs": [
    {
     "name": "stdout",
     "output_type": "stream",
     "text": [
      "State Shape: (8,)\n",
      "Number of actions: 4\n"
     ]
    }
   ],
   "source": [
    "state_size = env.observation_space.shape\n",
    "num_actions = env.action_space.n\n",
    "\n",
    "print('State Shape:', state_size)\n",
    "print('Number of actions:', num_actions)"
   ]
  },
  {
   "cell_type": "markdown",
   "metadata": {},
   "source": [
    "<a name=\"5\"></a>\n",
    "## 5 - Interacting with the Gym Environment\n",
    "\n",
    "The Gym library implements the standard “agent-environment loop” formalism:\n",
    "\n",
    "<br>\n",
    "<center>\n",
    "<video src = \"./videos/rl_formalism.m4v\" width=\"840\" height=\"480\" controls autoplay loop poster=\"./images/rl_formalism.png\"> </video>\n",
    "<figcaption style = \"text-align:center; font-style:italic\">Fig 2. Agent-environment Loop Formalism.</figcaption>\n",
    "</center>\n",
    "<br>\n",
    "\n",
    "In the standard “agent-environment loop” formalism, an agent interacts with the environment in discrete time steps $t=0,1,2,...$. At each time step $t$, the agent uses a policy $\\pi$ to select an action $A_t$ based on its observation of the environment's state $S_t$. The agent receives a numerical reward $R_t$ and on the next time step, moves to a new state $S_{t+1}$.\n",
    "\n",
    "<a name=\"5.1\"></a>\n",
    "### 5.1 Exploring the Environment's Dynamics\n",
    "\n",
    "In Open AI's Gym environments, we use the `.step()` method to run a single time step of the environment's dynamics. In the version of `gym` that we are using the `.step()` method accepts an action and returns four values:\n",
    "\n",
    "* `observation` (**object**): an environment-specific object representing your observation of the environment. In the Lunar Lander environment this corresponds to a numpy array containing the positions and velocities of the lander as described in section [3.2 Observation Space](#3.2).\n",
    "\n",
    "\n",
    "* `reward` (**float**): amount of reward returned as a result of taking the given action. In the Lunar Lander environment this corresponds to a float of type `numpy.float64` as described in section [3.3 Rewards](#3.3).\n",
    "\n",
    "\n",
    "* `done` (**boolean**): When done is `True`, it indicates the episode has terminated and it’s time to reset the environment. \n",
    "\n",
    "\n",
    "* `info` (**dictionary**): diagnostic information useful for debugging. We won't be using this variable in this notebook but it is shown here for completeness.\n",
    "\n",
    "To begin an episode, we need to reset the environment to an initial state. We do this by using the `.reset()` method. "
   ]
  },
  {
   "cell_type": "code",
   "execution_count": 7,
   "metadata": {
    "deletable": false,
    "editable": false
   },
   "outputs": [],
   "source": [
    "# Reset the environment and get the initial state.\n",
    "current_state = env.reset()"
   ]
  },
  {
   "cell_type": "markdown",
   "metadata": {},
   "source": [
    "Once the environment is reset, the agent can start taking actions in the environment by using the `.step()` method. Note that the agent can only take one action per time step. \n",
    "\n",
    "In the cell below you can select different actions and see how the returned values change depending on the action taken. Remember that in this environment the agent has four discrete actions available and we specify them in code by using their corresponding numerical value:\n",
    "\n",
    "```python\n",
    "Do nothing = 0\n",
    "Fire right engine = 1\n",
    "Fire main engine = 2\n",
    "Fire left engine = 3\n",
    "```"
   ]
  },
  {
   "cell_type": "code",
   "execution_count": 8,
   "metadata": {
    "deletable": false
   },
   "outputs": [
    {
     "data": {
      "text/html": [
       "<style  type=\"text/css\" >\n",
       "    #T_dac334e6_b9a6_11ee_b468_0242ac120007 th {\n",
       "          border: 1px solid grey;\n",
       "          text-align: center;\n",
       "    }    #T_dac334e6_b9a6_11ee_b468_0242ac120007 tbody td {\n",
       "          border: 1px solid grey;\n",
       "          text-align: center;\n",
       "    }    #T_dac334e6_b9a6_11ee_b468_0242ac120007row0_col0 {\n",
       "            background-color :  grey;\n",
       "        }    #T_dac334e6_b9a6_11ee_b468_0242ac120007row1_col1 {\n",
       "            background-color :  grey;\n",
       "        }    #T_dac334e6_b9a6_11ee_b468_0242ac120007row1_col2 {\n",
       "            background-color :  grey;\n",
       "        }    #T_dac334e6_b9a6_11ee_b468_0242ac120007row1_col3 {\n",
       "            background-color :  grey;\n",
       "        }    #T_dac334e6_b9a6_11ee_b468_0242ac120007row1_col4 {\n",
       "            background-color :  grey;\n",
       "        }    #T_dac334e6_b9a6_11ee_b468_0242ac120007row1_col5 {\n",
       "            background-color :  grey;\n",
       "        }    #T_dac334e6_b9a6_11ee_b468_0242ac120007row1_col6 {\n",
       "            background-color :  grey;\n",
       "        }    #T_dac334e6_b9a6_11ee_b468_0242ac120007row1_col7 {\n",
       "            background-color :  grey;\n",
       "        }    #T_dac334e6_b9a6_11ee_b468_0242ac120007row1_col8 {\n",
       "            background-color :  grey;\n",
       "        }    #T_dac334e6_b9a6_11ee_b468_0242ac120007row1_col9 {\n",
       "            background-color :  grey;\n",
       "        }    #T_dac334e6_b9a6_11ee_b468_0242ac120007row1_col10 {\n",
       "            background-color :  grey;\n",
       "        }    #T_dac334e6_b9a6_11ee_b468_0242ac120007row1_col11 {\n",
       "            background-color :  grey;\n",
       "        }    #T_dac334e6_b9a6_11ee_b468_0242ac120007row2_col0 {\n",
       "            background-color :  grey;\n",
       "        }    #T_dac334e6_b9a6_11ee_b468_0242ac120007row3_col1 {\n",
       "            background-color :  grey;\n",
       "        }    #T_dac334e6_b9a6_11ee_b468_0242ac120007row3_col2 {\n",
       "            background-color :  grey;\n",
       "        }    #T_dac334e6_b9a6_11ee_b468_0242ac120007row3_col3 {\n",
       "            background-color :  grey;\n",
       "        }    #T_dac334e6_b9a6_11ee_b468_0242ac120007row3_col4 {\n",
       "            background-color :  grey;\n",
       "        }    #T_dac334e6_b9a6_11ee_b468_0242ac120007row3_col5 {\n",
       "            background-color :  grey;\n",
       "        }    #T_dac334e6_b9a6_11ee_b468_0242ac120007row3_col6 {\n",
       "            background-color :  grey;\n",
       "        }    #T_dac334e6_b9a6_11ee_b468_0242ac120007row3_col7 {\n",
       "            background-color :  grey;\n",
       "        }    #T_dac334e6_b9a6_11ee_b468_0242ac120007row3_col8 {\n",
       "            background-color :  grey;\n",
       "        }    #T_dac334e6_b9a6_11ee_b468_0242ac120007row3_col9 {\n",
       "            background-color :  grey;\n",
       "        }    #T_dac334e6_b9a6_11ee_b468_0242ac120007row3_col10 {\n",
       "            background-color :  grey;\n",
       "        }    #T_dac334e6_b9a6_11ee_b468_0242ac120007row3_col11 {\n",
       "            background-color :  grey;\n",
       "        }    #T_dac334e6_b9a6_11ee_b468_0242ac120007row4_col1 {\n",
       "            background-color :  grey;\n",
       "        }    #T_dac334e6_b9a6_11ee_b468_0242ac120007row4_col2 {\n",
       "            background-color :  grey;\n",
       "        }    #T_dac334e6_b9a6_11ee_b468_0242ac120007row4_col3 {\n",
       "            background-color :  grey;\n",
       "        }    #T_dac334e6_b9a6_11ee_b468_0242ac120007row4_col4 {\n",
       "            background-color :  grey;\n",
       "        }    #T_dac334e6_b9a6_11ee_b468_0242ac120007row4_col5 {\n",
       "            background-color :  grey;\n",
       "        }    #T_dac334e6_b9a6_11ee_b468_0242ac120007row4_col6 {\n",
       "            background-color :  grey;\n",
       "        }    #T_dac334e6_b9a6_11ee_b468_0242ac120007row4_col7 {\n",
       "            background-color :  grey;\n",
       "        }    #T_dac334e6_b9a6_11ee_b468_0242ac120007row4_col8 {\n",
       "            background-color :  grey;\n",
       "        }    #T_dac334e6_b9a6_11ee_b468_0242ac120007row4_col9 {\n",
       "            background-color :  grey;\n",
       "        }    #T_dac334e6_b9a6_11ee_b468_0242ac120007row4_col10 {\n",
       "            background-color :  grey;\n",
       "        }    #T_dac334e6_b9a6_11ee_b468_0242ac120007row4_col11 {\n",
       "            background-color :  grey;\n",
       "        }</style><table id=\"T_dac334e6_b9a6_11ee_b468_0242ac120007\" ><thead>    <tr>        <th class=\"blank level0\" ></th>        <th class=\"col_heading level0 col0\" ></th>        <th class=\"col_heading level0 col1\" colspan=8>State Vector</th>        <th class=\"col_heading level0 col9\" colspan=3>Derived from the State Vector (the closer to zero, the better)</th>    </tr>    <tr>        <th class=\"blank level1\" ></th>        <th class=\"col_heading level1 col0\" ></th>        <th class=\"col_heading level1 col1\" colspan=2>Coordinate</th>        <th class=\"col_heading level1 col3\" colspan=2>Velocity</th>        <th class=\"col_heading level1 col5\" colspan=2>Tilting</th>        <th class=\"col_heading level1 col7\" colspan=2>Ground contact</th>        <th class=\"col_heading level1 col9\" >Distance from landing pad</th>        <th class=\"col_heading level1 col10\" >Velocity</th>        <th class=\"col_heading level1 col11\" >Tilting Angle (absolute value)</th>    </tr>    <tr>        <th class=\"blank level2\" ></th>        <th class=\"col_heading level2 col0\" ></th>        <th class=\"col_heading level2 col1\" >X (Horizontal)</th>        <th class=\"col_heading level2 col2\" >Y (Vertical)</th>        <th class=\"col_heading level2 col3\" >X (Horizontal)</th>        <th class=\"col_heading level2 col4\" >Y (Vertical)</th>        <th class=\"col_heading level2 col5\" >Angle</th>        <th class=\"col_heading level2 col6\" >Angular Velocity</th>        <th class=\"col_heading level2 col7\" >Left Leg?</th>        <th class=\"col_heading level2 col8\" >Right Leg?</th>        <th class=\"col_heading level2 col9\" ></th>        <th class=\"col_heading level2 col10\" ></th>        <th class=\"col_heading level2 col11\" ></th>    </tr></thead><tbody>\n",
       "                <tr>\n",
       "                        <th id=\"T_dac334e6_b9a6_11ee_b468_0242ac120007level0_row0\" class=\"row_heading level0 row0\" >Current State</th>\n",
       "                        <td id=\"T_dac334e6_b9a6_11ee_b468_0242ac120007row0_col0\" class=\"data row0 col0\" ></td>\n",
       "                        <td id=\"T_dac334e6_b9a6_11ee_b468_0242ac120007row0_col1\" class=\"data row0 col1\" >0.001919</td>\n",
       "                        <td id=\"T_dac334e6_b9a6_11ee_b468_0242ac120007row0_col2\" class=\"data row0 col2\" >1.422301</td>\n",
       "                        <td id=\"T_dac334e6_b9a6_11ee_b468_0242ac120007row0_col3\" class=\"data row0 col3\" >0.194400</td>\n",
       "                        <td id=\"T_dac334e6_b9a6_11ee_b468_0242ac120007row0_col4\" class=\"data row0 col4\" >0.505814</td>\n",
       "                        <td id=\"T_dac334e6_b9a6_11ee_b468_0242ac120007row0_col5\" class=\"data row0 col5\" >-0.002217</td>\n",
       "                        <td id=\"T_dac334e6_b9a6_11ee_b468_0242ac120007row0_col6\" class=\"data row0 col6\" >-0.044034</td>\n",
       "                        <td id=\"T_dac334e6_b9a6_11ee_b468_0242ac120007row0_col7\" class=\"data row0 col7\" >False</td>\n",
       "                        <td id=\"T_dac334e6_b9a6_11ee_b468_0242ac120007row0_col8\" class=\"data row0 col8\" >False</td>\n",
       "                        <td id=\"T_dac334e6_b9a6_11ee_b468_0242ac120007row0_col9\" class=\"data row0 col9\" >1.422302</td>\n",
       "                        <td id=\"T_dac334e6_b9a6_11ee_b468_0242ac120007row0_col10\" class=\"data row0 col10\" >0.541885</td>\n",
       "                        <td id=\"T_dac334e6_b9a6_11ee_b468_0242ac120007row0_col11\" class=\"data row0 col11\" >0.002217</td>\n",
       "            </tr>\n",
       "            <tr>\n",
       "                        <th id=\"T_dac334e6_b9a6_11ee_b468_0242ac120007level0_row1\" class=\"row_heading level0 row1\" >Action</th>\n",
       "                        <td id=\"T_dac334e6_b9a6_11ee_b468_0242ac120007row1_col0\" class=\"data row1 col0\" >Do nothing</td>\n",
       "                        <td id=\"T_dac334e6_b9a6_11ee_b468_0242ac120007row1_col1\" class=\"data row1 col1\" ></td>\n",
       "                        <td id=\"T_dac334e6_b9a6_11ee_b468_0242ac120007row1_col2\" class=\"data row1 col2\" ></td>\n",
       "                        <td id=\"T_dac334e6_b9a6_11ee_b468_0242ac120007row1_col3\" class=\"data row1 col3\" ></td>\n",
       "                        <td id=\"T_dac334e6_b9a6_11ee_b468_0242ac120007row1_col4\" class=\"data row1 col4\" ></td>\n",
       "                        <td id=\"T_dac334e6_b9a6_11ee_b468_0242ac120007row1_col5\" class=\"data row1 col5\" ></td>\n",
       "                        <td id=\"T_dac334e6_b9a6_11ee_b468_0242ac120007row1_col6\" class=\"data row1 col6\" ></td>\n",
       "                        <td id=\"T_dac334e6_b9a6_11ee_b468_0242ac120007row1_col7\" class=\"data row1 col7\" ></td>\n",
       "                        <td id=\"T_dac334e6_b9a6_11ee_b468_0242ac120007row1_col8\" class=\"data row1 col8\" ></td>\n",
       "                        <td id=\"T_dac334e6_b9a6_11ee_b468_0242ac120007row1_col9\" class=\"data row1 col9\" ></td>\n",
       "                        <td id=\"T_dac334e6_b9a6_11ee_b468_0242ac120007row1_col10\" class=\"data row1 col10\" ></td>\n",
       "                        <td id=\"T_dac334e6_b9a6_11ee_b468_0242ac120007row1_col11\" class=\"data row1 col11\" ></td>\n",
       "            </tr>\n",
       "            <tr>\n",
       "                        <th id=\"T_dac334e6_b9a6_11ee_b468_0242ac120007level0_row2\" class=\"row_heading level0 row2\" >Next State</th>\n",
       "                        <td id=\"T_dac334e6_b9a6_11ee_b468_0242ac120007row2_col0\" class=\"data row2 col0\" ></td>\n",
       "                        <td id=\"T_dac334e6_b9a6_11ee_b468_0242ac120007row2_col1\" class=\"data row2 col1\" >0.003839</td>\n",
       "                        <td id=\"T_dac334e6_b9a6_11ee_b468_0242ac120007row2_col2\" class=\"data row2 col2\" >1.433103</td>\n",
       "                        <td id=\"T_dac334e6_b9a6_11ee_b468_0242ac120007row2_col3\" class=\"data row2 col3\" >0.194137</td>\n",
       "                        <td id=\"T_dac334e6_b9a6_11ee_b468_0242ac120007row2_col4\" class=\"data row2 col4\" >0.480094</td>\n",
       "                        <td id=\"T_dac334e6_b9a6_11ee_b468_0242ac120007row2_col5\" class=\"data row2 col5\" >-0.004393</td>\n",
       "                        <td id=\"T_dac334e6_b9a6_11ee_b468_0242ac120007row2_col6\" class=\"data row2 col6\" >-0.043519</td>\n",
       "                        <td id=\"T_dac334e6_b9a6_11ee_b468_0242ac120007row2_col7\" class=\"data row2 col7\" >False</td>\n",
       "                        <td id=\"T_dac334e6_b9a6_11ee_b468_0242ac120007row2_col8\" class=\"data row2 col8\" >False</td>\n",
       "                        <td id=\"T_dac334e6_b9a6_11ee_b468_0242ac120007row2_col9\" class=\"data row2 col9\" >1.433108</td>\n",
       "                        <td id=\"T_dac334e6_b9a6_11ee_b468_0242ac120007row2_col10\" class=\"data row2 col10\" >0.517860</td>\n",
       "                        <td id=\"T_dac334e6_b9a6_11ee_b468_0242ac120007row2_col11\" class=\"data row2 col11\" >0.004393</td>\n",
       "            </tr>\n",
       "            <tr>\n",
       "                        <th id=\"T_dac334e6_b9a6_11ee_b468_0242ac120007level0_row3\" class=\"row_heading level0 row3\" >Reward</th>\n",
       "                        <td id=\"T_dac334e6_b9a6_11ee_b468_0242ac120007row3_col0\" class=\"data row3 col0\" >1.104326</td>\n",
       "                        <td id=\"T_dac334e6_b9a6_11ee_b468_0242ac120007row3_col1\" class=\"data row3 col1\" ></td>\n",
       "                        <td id=\"T_dac334e6_b9a6_11ee_b468_0242ac120007row3_col2\" class=\"data row3 col2\" ></td>\n",
       "                        <td id=\"T_dac334e6_b9a6_11ee_b468_0242ac120007row3_col3\" class=\"data row3 col3\" ></td>\n",
       "                        <td id=\"T_dac334e6_b9a6_11ee_b468_0242ac120007row3_col4\" class=\"data row3 col4\" ></td>\n",
       "                        <td id=\"T_dac334e6_b9a6_11ee_b468_0242ac120007row3_col5\" class=\"data row3 col5\" ></td>\n",
       "                        <td id=\"T_dac334e6_b9a6_11ee_b468_0242ac120007row3_col6\" class=\"data row3 col6\" ></td>\n",
       "                        <td id=\"T_dac334e6_b9a6_11ee_b468_0242ac120007row3_col7\" class=\"data row3 col7\" ></td>\n",
       "                        <td id=\"T_dac334e6_b9a6_11ee_b468_0242ac120007row3_col8\" class=\"data row3 col8\" ></td>\n",
       "                        <td id=\"T_dac334e6_b9a6_11ee_b468_0242ac120007row3_col9\" class=\"data row3 col9\" ></td>\n",
       "                        <td id=\"T_dac334e6_b9a6_11ee_b468_0242ac120007row3_col10\" class=\"data row3 col10\" ></td>\n",
       "                        <td id=\"T_dac334e6_b9a6_11ee_b468_0242ac120007row3_col11\" class=\"data row3 col11\" ></td>\n",
       "            </tr>\n",
       "            <tr>\n",
       "                        <th id=\"T_dac334e6_b9a6_11ee_b468_0242ac120007level0_row4\" class=\"row_heading level0 row4\" >Episode Terminated</th>\n",
       "                        <td id=\"T_dac334e6_b9a6_11ee_b468_0242ac120007row4_col0\" class=\"data row4 col0\" >False</td>\n",
       "                        <td id=\"T_dac334e6_b9a6_11ee_b468_0242ac120007row4_col1\" class=\"data row4 col1\" ></td>\n",
       "                        <td id=\"T_dac334e6_b9a6_11ee_b468_0242ac120007row4_col2\" class=\"data row4 col2\" ></td>\n",
       "                        <td id=\"T_dac334e6_b9a6_11ee_b468_0242ac120007row4_col3\" class=\"data row4 col3\" ></td>\n",
       "                        <td id=\"T_dac334e6_b9a6_11ee_b468_0242ac120007row4_col4\" class=\"data row4 col4\" ></td>\n",
       "                        <td id=\"T_dac334e6_b9a6_11ee_b468_0242ac120007row4_col5\" class=\"data row4 col5\" ></td>\n",
       "                        <td id=\"T_dac334e6_b9a6_11ee_b468_0242ac120007row4_col6\" class=\"data row4 col6\" ></td>\n",
       "                        <td id=\"T_dac334e6_b9a6_11ee_b468_0242ac120007row4_col7\" class=\"data row4 col7\" ></td>\n",
       "                        <td id=\"T_dac334e6_b9a6_11ee_b468_0242ac120007row4_col8\" class=\"data row4 col8\" ></td>\n",
       "                        <td id=\"T_dac334e6_b9a6_11ee_b468_0242ac120007row4_col9\" class=\"data row4 col9\" ></td>\n",
       "                        <td id=\"T_dac334e6_b9a6_11ee_b468_0242ac120007row4_col10\" class=\"data row4 col10\" ></td>\n",
       "                        <td id=\"T_dac334e6_b9a6_11ee_b468_0242ac120007row4_col11\" class=\"data row4 col11\" ></td>\n",
       "            </tr>\n",
       "    </tbody></table>"
      ],
      "text/plain": [
       "<pandas.io.formats.style.Styler at 0x7f222c0c2710>"
      ]
     },
     "metadata": {},
     "output_type": "display_data"
    }
   ],
   "source": [
    "# Select an action\n",
    "action = 0\n",
    "\n",
    "# Run a single time step of the environment's dynamics with the given action.\n",
    "next_state, reward, done, _ = env.step(action)\n",
    "\n",
    "# Display table with values.\n",
    "utils.display_table(current_state, action, next_state, reward, done)\n",
    "\n",
    "# Replace the `current_state` with the state after the action is taken\n",
    "current_state = next_state"
   ]
  },
  {
   "cell_type": "markdown",
   "metadata": {},
   "source": [
    "In practice, when we train the agent we use a loop to allow the agent to take many consecutive actions during an episode."
   ]
  },
  {
   "cell_type": "markdown",
   "metadata": {},
   "source": [
    "<a name=\"6\"></a>\n",
    "## 6 - Deep Q-Learning\n",
    "\n",
    "In cases where both the state and action space are discrete we can estimate the action-value function iteratively by using the Bellman equation:\n",
    "\n",
    "$$\n",
    "Q_{i+1}(s,a) = R + \\gamma \\max_{a'}Q_i(s',a')\n",
    "$$\n",
    "\n",
    "This iterative method converges to the optimal action-value function $Q^*(s,a)$ as $i\\to\\infty$. This means that the agent just needs to gradually explore the state-action space and keep updating the estimate of $Q(s,a)$ until it converges to the optimal action-value function $Q^*(s,a)$. However, in cases where the state space is continuous it becomes practically impossible to explore the entire state-action space. Consequently, this also makes it practically impossible to gradually estimate $Q(s,a)$ until it converges to $Q^*(s,a)$.\n",
    "\n",
    "In the Deep $Q$-Learning, we solve this problem by using a neural network to estimate the action-value function $Q(s,a)\\approx Q^*(s,a)$. We call this neural network a $Q$-Network and it can be trained by adjusting its weights at each iteration to minimize the mean-squared error in the Bellman equation.\n",
    "\n",
    "Unfortunately, using neural networks in reinforcement learning to estimate action-value functions has proven to be highly unstable. Luckily, there's a couple of techniques that can be employed to avoid instabilities. These techniques consist of using a ***Target Network*** and ***Experience Replay***. We will explore these two techniques in the following sections."
   ]
  },
  {
   "cell_type": "markdown",
   "metadata": {},
   "source": [
    "<a name=\"6.1\"></a>\n",
    "### 6.1 Target Network\n",
    "\n",
    "We can train the $Q$-Network by adjusting it's weights at each iteration to minimize the mean-squared error in the Bellman equation, where the target values are given by:\n",
    "\n",
    "$$\n",
    "y = R + \\gamma \\max_{a'}Q(s',a';w)\n",
    "$$\n",
    "\n",
    "where $w$ are the weights of the $Q$-Network. This means that we are adjusting the weights $w$ at each iteration to minimize the following error:\n",
    "\n",
    "$$\n",
    "\\overbrace{\\underbrace{R + \\gamma \\max_{a'}Q(s',a'; w)}_{\\rm {y~target}} - Q(s,a;w)}^{\\rm {Error}}\n",
    "$$\n",
    "\n",
    "Notice that this forms a problem because the $y$ target is changing on every iteration. Having a constantly moving target can lead to oscillations and instabilities. To avoid this, we can create\n",
    "a separate neural network for generating the $y$ targets. We call this separate neural network the **target $\\hat Q$-Network** and it will have the same architecture as the original $Q$-Network. By using the target $\\hat Q$-Network, the above error becomes:\n",
    "\n",
    "$$\n",
    "\\overbrace{\\underbrace{R + \\gamma \\max_{a'}\\hat{Q}(s',a'; w^-)}_{\\rm {y~target}} - Q(s,a;w)}^{\\rm {Error}}\n",
    "$$\n",
    "\n",
    "where $w^-$ and $w$ are the weights of the target $\\hat Q$-Network and $Q$-Network, respectively.\n",
    "\n",
    "In practice, we will use the following algorithm: every $C$ time steps we will use the $\\hat Q$-Network to generate the $y$ targets and update the weights of the target $\\hat Q$-Network using the weights of the $Q$-Network. We will update the weights $w^-$ of the the target $\\hat Q$-Network using a **soft update**. This means that we will update the weights $w^-$ using the following rule:\n",
    " \n",
    "$$\n",
    "w^-\\leftarrow \\tau w + (1 - \\tau) w^-\n",
    "$$\n",
    "\n",
    "where $\\tau\\ll 1$. By using the soft update, we are ensuring that the target values, $y$, change slowly, which greatly improves the stability of our learning algorithm."
   ]
  },
  {
   "cell_type": "markdown",
   "metadata": {},
   "source": [
    "<a name=\"ex01\"></a>\n",
    "### Exercise 1\n",
    "\n",
    "In this exercise you will create the $Q$ and target $\\hat Q$ networks and set the optimizer. Remember that the Deep $Q$-Network (DQN) is a neural network that approximates the action-value function $Q(s,a)\\approx Q^*(s,a)$. It does this by learning how to map states to $Q$ values.\n",
    "\n",
    "To solve the Lunar Lander environment, we are going to employ a DQN with the following architecture:\n",
    "\n",
    "* An `Input` layer that takes `state_size` as input.\n",
    "\n",
    "* A `Dense` layer with `64` units and a `relu` activation function.\n",
    "\n",
    "* A `Dense` layer with `64` units and a `relu` activation function.\n",
    "\n",
    "* A `Dense` layer with `num_actions` units and a `linear` activation function. This will be the output layer of our network.\n",
    "\n",
    "\n",
    "In the cell below you should create the $Q$-Network and the target $\\hat Q$-Network using the model architecture described above. Remember that both the $Q$-Network and the target $\\hat Q$-Network have the same architecture.\n",
    "\n",
    "Lastly, you should set `Adam` as the optimizer with a learning rate equal to `ALPHA`. Recall that `ALPHA` was defined in the [Hyperparameters](#2) section. We should note that for this exercise you should use the already imported packages:\n",
    "```python\n",
    "from tensorflow.keras.layers import Dense, Input\n",
    "from tensorflow.keras.optimizers import Adam\n",
    "```"
   ]
  },
  {
   "cell_type": "code",
   "execution_count": 28,
   "metadata": {
    "deletable": false
   },
   "outputs": [],
   "source": [
    "# UNQ_C1\n",
    "# GRADED CELL\n",
    "\n",
    "# Create the Q-Network\n",
    "q_network = Sequential([\n",
    "    ### START CODE HERE ###     \n",
    "    \n",
    "#    Input(shape=state_size),\n",
    "#    Dense(units=64, activation='relu'),\n",
    "    Dense(units=64, activation='relu', input_shape=state_size),\n",
    "    Dense(units=64, activation='relu'),\n",
    "    Dense(units=num_actions, activation='linear')\n",
    "    \n",
    "    ### END CODE HERE ### \n",
    "    ])\n",
    "\n",
    "# Create the target Q^-Network\n",
    "target_q_network = Sequential([\n",
    "    ### START CODE HERE ### \n",
    "    \n",
    "    Input(shape=state_size),\n",
    "    Dense(units=64, activation='relu'),\n",
    "    Dense(units=64, activation='relu'),\n",
    "    Dense(units=num_actions, activation='linear')\n",
    "    \n",
    "    ### END CODE HERE ###\n",
    "    ])\n",
    "\n",
    "### START CODE HERE ### \n",
    "optimizer = Adam(learning_rate=ALPHA)\n",
    "cost_fn = MSE\n",
    "q_network.compile(\n",
    "    optimizer=optimizer,\n",
    "    loss=cost_fn\n",
    ")\n",
    "target_q_network.compile(\n",
    "    optimizer=optimizer,\n",
    "    loss=cost_fn\n",
    ")\n",
    "### END CODE HERE ###"
   ]
  },
  {
   "cell_type": "code",
   "execution_count": 29,
   "metadata": {
    "deletable": false,
    "editable": false
   },
   "outputs": [
    {
     "name": "stdout",
     "output_type": "stream",
     "text": [
      "\u001b[92mAll tests passed!\n",
      "\u001b[92mAll tests passed!\n",
      "\u001b[92mAll tests passed!\n"
     ]
    }
   ],
   "source": [
    "# UNIT TEST\n",
    "from public_tests import *\n",
    "\n",
    "test_network(q_network)\n",
    "test_network(target_q_network)\n",
    "test_optimizer(optimizer, ALPHA) "
   ]
  },
  {
   "cell_type": "markdown",
   "metadata": {},
   "source": [
    "<details>\n",
    "  <summary><font size=\"3\" color=\"darkgreen\"><b>Click for hints</b></font></summary>\n",
    "    \n",
    "```python\n",
    "# Create the Q-Network\n",
    "q_network = Sequential([\n",
    "    Input(shape=state_size),                      \n",
    "    Dense(units=64, activation='relu'),            \n",
    "    Dense(units=64, activation='relu'),            \n",
    "    Dense(units=num_actions, activation='linear'),\n",
    "    ])\n",
    "\n",
    "# Create the target Q^-Network\n",
    "target_q_network = Sequential([\n",
    "    Input(shape=state_size),                       \n",
    "    Dense(units=64, activation='relu'),            \n",
    "    Dense(units=64, activation='relu'),            \n",
    "    Dense(units=num_actions, activation='linear'), \n",
    "    ])\n",
    "\n",
    "optimizer = Adam(learning_rate=ALPHA)                                  \n",
    "``` "
   ]
  },
  {
   "cell_type": "markdown",
   "metadata": {},
   "source": [
    "<a name=\"6.2\"></a>\n",
    "### 6.2 Experience Replay\n",
    "\n",
    "When an agent interacts with the environment, the states, actions, and rewards the agent experiences are sequential by nature. If the agent tries to learn from these consecutive experiences it can run into problems due to the strong correlations between them. To avoid this, we employ a technique known as **Experience Replay** to generate uncorrelated experiences for training our agent. Experience replay consists of storing the agent's experiences (i.e the states, actions, and rewards the agent receives) in a memory buffer and then sampling a random mini-batch of experiences from the buffer to do the learning. The experience tuples $(S_t, A_t, R_t, S_{t+1})$ will be added to the memory buffer at each time step as the agent interacts with the environment.\n",
    "\n",
    "For convenience, we will store the experiences as named tuples."
   ]
  },
  {
   "cell_type": "code",
   "execution_count": 17,
   "metadata": {
    "deletable": false,
    "editable": false
   },
   "outputs": [],
   "source": [
    "# Store experiences as named tuples\n",
    "experience = namedtuple(\"Experience\", field_names=[\"state\", \"action\", \"reward\", \"next_state\", \"done\"])"
   ]
  },
  {
   "cell_type": "markdown",
   "metadata": {},
   "source": [
    "By using experience replay we avoid problematic correlations, oscillations and instabilities. In addition, experience replay also allows the agent to potentially use the same experience in multiple weight updates, which increases data efficiency."
   ]
  },
  {
   "cell_type": "markdown",
   "metadata": {},
   "source": [
    "<a name=\"7\"></a>\n",
    "## 7 - Deep Q-Learning Algorithm with Experience Replay\n",
    "\n",
    "Now that we know all the techniques that we are going to use, we can put them together to arrive at the Deep Q-Learning Algorithm With Experience Replay.\n",
    "<br>\n",
    "<br>\n",
    "<figure>\n",
    "  <img src = \"images/deep_q_algorithm.png\" width = 90% style = \"border: thin silver solid; padding: 0px\">\n",
    "      <figcaption style = \"text-align: center; font-style: italic\">Fig 3. Deep Q-Learning with Experience Replay.</figcaption>\n",
    "</figure>"
   ]
  },
  {
   "cell_type": "markdown",
   "metadata": {},
   "source": [
    "<a name=\"ex02\"></a>\n",
    "### Exercise 2\n",
    "\n",
    "In this exercise you will implement line ***12*** of the algorithm outlined in *Fig 3* above and you will also compute the loss between the $y$ targets and the $Q(s,a)$ values. In the cell below, complete the `compute_loss` function by setting the $y$ targets equal to:\n",
    "\n",
    "$$\n",
    "\\begin{equation}\n",
    "    y_j =\n",
    "    \\begin{cases}\n",
    "      R_j & \\text{if episode terminates at step  } j+1\\\\\n",
    "      R_j + \\gamma \\max_{a'}\\hat{Q}(s_{j+1},a') & \\text{otherwise}\\\\\n",
    "    \\end{cases}       \n",
    "\\end{equation}\n",
    "$$\n",
    "\n",
    "Here are a couple of things to note:\n",
    "\n",
    "* The `compute_loss` function takes in a mini-batch of experience tuples. This mini-batch of experience tuples is unpacked to extract the `states`, `actions`, `rewards`, `next_states`, and `done_vals`. You should keep in mind that these variables are *TensorFlow Tensors* whose size will depend on the mini-batch size. For example, if the mini-batch size is `64` then both `rewards` and `done_vals` will be TensorFlow Tensors with `64` elements.\n",
    "\n",
    "\n",
    "* Using `if/else` statements to set the $y$ targets will not work when the variables are tensors with many elements. However, notice that you can use the `done_vals` to implement the above in a single line of code. To do this, recall that the `done` variable is a Boolean variable that takes the value `True` when an episode terminates at step $j+1$ and it is `False` otherwise. Taking into account that a Boolean value of `True` has the numerical value of `1` and a Boolean value of `False` has the numerical value of `0`, you can use the factor `(1 - done_vals)` to implement the above in a single line of code. Here's a hint: notice that `(1 - done_vals)` has a value of `0` when `done_vals` is `True` and a value of `1` when `done_vals` is `False`. \n",
    "\n",
    "Lastly, compute the loss by calculating the Mean-Squared Error (`MSE`) between the `y_targets` and the `q_values`. To calculate the mean-squared error you should use the already imported package `MSE`:\n",
    "```python\n",
    "from tensorflow.keras.losses import MSE\n",
    "```"
   ]
  },
  {
   "cell_type": "code",
   "execution_count": 34,
   "metadata": {
    "deletable": false
   },
   "outputs": [],
   "source": [
    "# UNQ_C2\n",
    "# GRADED FUNCTION: calculate_loss\n",
    "\n",
    "def compute_loss(experiences, gamma, q_network, target_q_network):\n",
    "    \"\"\" \n",
    "    Calculates the loss.\n",
    "    \n",
    "    Args:\n",
    "      experiences: (tuple) tuple of [\"state\", \"action\", \"reward\", \"next_state\", \"done\"] namedtuples\n",
    "      gamma: (float) The discount factor.\n",
    "      q_network: (tf.keras.Sequential) Keras model for predicting the q_values\n",
    "      target_q_network: (tf.keras.Sequential) Keras model for predicting the targets\n",
    "          \n",
    "    Returns:\n",
    "      loss: (TensorFlow Tensor(shape=(0,), dtype=int32)) the Mean-Squared Error between\n",
    "            the y targets and the Q(s,a) values.\n",
    "    \"\"\"\n",
    "\n",
    "    # Unpack the mini-batch of experience tuples\n",
    "    states, actions, rewards, next_states, done_vals = experiences\n",
    "    \n",
    "    \n",
    "    # Compute max Q^(s,a)\n",
    "    max_qsa = tf.reduce_max(target_q_network(next_states), axis=-1)\n",
    "    \n",
    "    # Set y = R if episode terminates, otherwise set y = R + γ max Q^(s,a).\n",
    "    ### START CODE HERE ### \n",
    "    y_targets = (1 - done_vals) * (rewards + gamma * max_qsa) + (done_vals) * (rewards)\n",
    "    ### END CODE HERE ###\n",
    "    \n",
    "    # Get the q_values and reshape to match y_targets\n",
    "    q_values = q_network(states)\n",
    "    q_values = tf.gather_nd(q_values, tf.stack([tf.range(q_values.shape[0]),\n",
    "                                                tf.cast(actions, tf.int32)], axis=1))\n",
    "        \n",
    "    # Compute the loss\n",
    "    ### START CODE HERE ### \n",
    "    loss = MSE(q_values, y_targets) \n",
    "    ### END CODE HERE ### \n",
    "    \n",
    "    return loss"
   ]
  },
  {
   "cell_type": "code",
   "execution_count": 35,
   "metadata": {
    "deletable": false,
    "editable": false
   },
   "outputs": [
    {
     "name": "stdout",
     "output_type": "stream",
     "text": [
      "\u001b[92mAll tests passed!\n"
     ]
    }
   ],
   "source": [
    "# UNIT TEST    \n",
    "test_compute_loss(compute_loss)"
   ]
  },
  {
   "cell_type": "markdown",
   "metadata": {},
   "source": [
    "<details>\n",
    "  <summary><font size=\"3\" color=\"darkgreen\"><b>Click for hints</b></font></summary>\n",
    "    \n",
    "```python\n",
    "def compute_loss(experiences, gamma, q_network, target_q_network):\n",
    "    \"\"\" \n",
    "    Calculates the loss.\n",
    "    \n",
    "    Args:\n",
    "      experiences: (tuple) tuple of [\"state\", \"action\", \"reward\", \"next_state\", \"done\"] namedtuples\n",
    "      gamma: (float) The discount factor.\n",
    "      q_network: (tf.keras.Sequential) Keras model for predicting the q_values\n",
    "      target_q_network: (tf.keras.Sequential) Keras model for predicting the targets\n",
    "          \n",
    "    Returns:\n",
    "      loss: (TensorFlow Tensor(shape=(0,), dtype=int32)) the Mean-Squared Error between\n",
    "            the y targets and the Q(s,a) values.\n",
    "    \"\"\"\n",
    "\n",
    "    \n",
    "    # Unpack the mini-batch of experience tuples\n",
    "    states, actions, rewards, next_states, done_vals = experiences\n",
    "    \n",
    "    # Compute max Q^(s,a)\n",
    "    max_qsa = tf.reduce_max(target_q_network(next_states), axis=-1)\n",
    "    \n",
    "    # Set y = R if episode terminates, otherwise set y = R + γ max Q^(s,a).\n",
    "    y_targets = rewards + (gamma * max_qsa * (1 - done_vals))\n",
    "    \n",
    "    # Get the q_values\n",
    "    q_values = q_network(states)\n",
    "    q_values = tf.gather_nd(q_values, tf.stack([tf.range(q_values.shape[0]),\n",
    "                                                tf.cast(actions, tf.int32)], axis=1))\n",
    "    \n",
    "    # Calculate the loss\n",
    "    loss = MSE(y_targets, q_values)\n",
    "    \n",
    "    return loss\n",
    "\n",
    "``` \n",
    "    "
   ]
  },
  {
   "cell_type": "markdown",
   "metadata": {},
   "source": [
    "<a name=\"8\"></a>\n",
    "## 8 - Update the Network Weights\n",
    "\n",
    "We will use the `agent_learn` function below to implement lines ***12 -14*** of the algorithm outlined in [Fig 3](#7). The `agent_learn` function will update the weights of the $Q$ and target $\\hat Q$ networks using a custom training loop. Because we are using a custom training loop we need to retrieve the gradients via a `tf.GradientTape` instance, and then call `optimizer.apply_gradients()` to update the weights of our $Q$-Network. Note that we are also using the `@tf.function` decorator to increase performance. Without this decorator our training will take twice as long. If you would like to know more about how to increase performance with `@tf.function` take a look at the [TensorFlow documentation](https://www.tensorflow.org/guide/function).\n",
    "\n",
    "The last line of this function updates the weights of the target $\\hat Q$-Network using a [soft update](#6.1). If you want to know how this is implemented in code we encourage you to take a look at the `utils.update_target_network` function in the `utils` module."
   ]
  },
  {
   "cell_type": "code",
   "execution_count": 36,
   "metadata": {
    "deletable": false,
    "editable": false
   },
   "outputs": [],
   "source": [
    "@tf.function\n",
    "def agent_learn(experiences, gamma):\n",
    "    \"\"\"\n",
    "    Updates the weights of the Q networks.\n",
    "    \n",
    "    Args:\n",
    "      experiences: (tuple) tuple of [\"state\", \"action\", \"reward\", \"next_state\", \"done\"] namedtuples\n",
    "      gamma: (float) The discount factor.\n",
    "    \n",
    "    \"\"\"\n",
    "    \n",
    "    # Calculate the loss\n",
    "    with tf.GradientTape() as tape:\n",
    "        loss = compute_loss(experiences, gamma, q_network, target_q_network)\n",
    "\n",
    "    # Get the gradients of the loss with respect to the weights.\n",
    "    gradients = tape.gradient(loss, q_network.trainable_variables)\n",
    "    \n",
    "    # Update the weights of the q_network.\n",
    "    optimizer.apply_gradients(zip(gradients, q_network.trainable_variables))\n",
    "\n",
    "    # update the weights of target q_network\n",
    "    utils.update_target_network(q_network, target_q_network)"
   ]
  },
  {
   "cell_type": "markdown",
   "metadata": {},
   "source": [
    "<a name=\"9\"></a>\n",
    "## 9 - Train the Agent\n",
    "\n",
    "We are now ready to train our agent to solve the Lunar Lander environment. In the cell below we will implement the algorithm in [Fig 3](#7) line by line (please note that we have included the same algorithm below for easy reference. This will prevent you from scrolling up and down the notebook):\n",
    "\n",
    "* **Line 1**: We initialize the `memory_buffer` with a capacity of $N =$ `MEMORY_SIZE`. Notice that we are using a `deque` as the data structure for our `memory_buffer`.\n",
    "\n",
    "\n",
    "* **Line 2**: We skip this line since we already initialized the `q_network` in [Exercise 1](#ex01).\n",
    "\n",
    "\n",
    "* **Line 3**: We initialize the `target_q_network` by setting its weights to be equal to those of the `q_network`.\n",
    "\n",
    "\n",
    "* **Line 4**: We start the outer loop. Notice that we have set $M =$ `num_episodes = 2000`. This number is reasonable because the agent should be able to solve the Lunar Lander environment in less than `2000` episodes using this notebook's default parameters.\n",
    "\n",
    "\n",
    "* **Line 5**: We use the `.reset()` method to reset the environment to the initial state and get the initial state.\n",
    "\n",
    "\n",
    "* **Line 6**: We start the inner loop. Notice that we have set $T =$ `max_num_timesteps = 1000`. This means that the episode will automatically terminate if the episode hasn't terminated after `1000` time steps.\n",
    "\n",
    "\n",
    "* **Line 7**: The agent observes the current `state` and chooses an `action` using an $\\epsilon$-greedy policy. Our agent starts out using a value of $\\epsilon =$ `epsilon = 1` which yields an $\\epsilon$-greedy policy that is equivalent to the equiprobable random policy. This means that at the beginning of our training, the agent is just going to take random actions regardless of the observed `state`. As training progresses we will decrease the value of $\\epsilon$ slowly towards a minimum value using a given $\\epsilon$-decay rate. We want this minimum value to be close to zero because a value of $\\epsilon = 0$ will yield an $\\epsilon$-greedy policy that is equivalent to the greedy policy. This means that towards the end of training, the agent will lean towards selecting the `action` that it believes (based on its past experiences) will maximize $Q(s,a)$. We will set the minimum $\\epsilon$ value to be `0.01` and not exactly 0 because we always want to keep a little bit of exploration during training. If you want to know how this is implemented in code we encourage you to take a look at the `utils.get_action` function in the `utils` module.\n",
    "\n",
    "\n",
    "* **Line 8**: We use the `.step()` method to take the given `action` in the environment and get the `reward` and the `next_state`. \n",
    "\n",
    "\n",
    "* **Line 9**: We store the `experience(state, action, reward, next_state, done)` tuple in our `memory_buffer`. Notice that we also store the `done` variable so that we can keep track of when an episode terminates. This allowed us to set the $y$ targets in [Exercise 2](#ex02).\n",
    "\n",
    "\n",
    "* **Line 10**: We check if the conditions are met to perform a learning update. We do this by using our custom `utils.check_update_conditions` function. This function checks if $C =$ `NUM_STEPS_FOR_UPDATE = 4` time steps have occured and if our `memory_buffer` has enough experience tuples to fill a mini-batch. For example, if the mini-batch size is `64`, then our `memory_buffer` should have more than `64` experience tuples in order to pass the latter condition. If the conditions are met, then the `utils.check_update_conditions` function will return a value of `True`, otherwise it will return a value of `False`.\n",
    "\n",
    "\n",
    "* **Lines 11 - 14**: If the `update` variable is `True` then we perform a learning update. The learning update consists of sampling a random mini-batch of experience tuples from our `memory_buffer`, setting the $y$ targets, performing gradient descent, and updating the weights of the networks. We will use the `agent_learn` function we defined in [Section 8](#8) to perform the latter 3.\n",
    "\n",
    "\n",
    "* **Line 15**: At the end of each iteration of the inner loop we set `next_state` as our new `state` so that the loop can start again from this new state. In addition, we check if the episode has reached a terminal state (i.e we check if `done = True`). If a terminal state has been reached, then we break out of the inner loop.\n",
    "\n",
    "\n",
    "* **Line 16**: At the end of each iteration of the outer loop we update the value of $\\epsilon$, and check if the environment has been solved. We consider that the environment has been solved if the agent receives an average of `200` points in the last `100` episodes. If the environment has not been solved we continue the outer loop and start a new episode.\n",
    "\n",
    "Finally, we wanted to note that we have included some extra variables to keep track of the total number of points the agent received in each episode. This will help us determine if the agent has solved the environment and it will also allow us to see how our agent performed during training. We also use the `time` module to measure how long the training takes. \n",
    "\n",
    "<br>\n",
    "<br>\n",
    "<figure>\n",
    "  <img src = \"images/deep_q_algorithm.png\" width = 90% style = \"border: thin silver solid; padding: 0px\">\n",
    "      <figcaption style = \"text-align: center; font-style: italic\">Fig 4. Deep Q-Learning with Experience Replay.</figcaption>\n",
    "</figure>\n",
    "<br>\n",
    "\n",
    "**Note:** With this notebook's default parameters, the following cell takes between 10 to 15 minutes to run. "
   ]
  },
  {
   "cell_type": "code",
   "execution_count": 37,
   "metadata": {
    "deletable": false,
    "editable": false
   },
   "outputs": [
    {
     "name": "stdout",
     "output_type": "stream",
     "text": [
      "Episode 100 | Total point average of the last 100 episodes: -132.87\n",
      "Episode 200 | Total point average of the last 100 episodes: -91.895\n",
      "Episode 300 | Total point average of the last 100 episodes: -56.64\n",
      "Episode 400 | Total point average of the last 100 episodes: 7.6355\n",
      "Episode 500 | Total point average of the last 100 episodes: 161.88\n",
      "Episode 600 | Total point average of the last 100 episodes: 198.19\n",
      "Episode 609 | Total point average of the last 100 episodes: 200.63\n",
      "\n",
      "Environment solved in 609 episodes!\n",
      "\n",
      "Total Runtime: 713.13 s (11.89 min)\n"
     ]
    }
   ],
   "source": [
    "start = time.time()\n",
    "\n",
    "num_episodes = 2000\n",
    "max_num_timesteps = 1000\n",
    "\n",
    "total_point_history = []\n",
    "\n",
    "num_p_av = 100    # number of total points to use for averaging\n",
    "epsilon = 1.0     # initial ε value for ε-greedy policy\n",
    "\n",
    "# Create a memory buffer D with capacity N\n",
    "memory_buffer = deque(maxlen=MEMORY_SIZE)\n",
    "\n",
    "# Set the target network weights equal to the Q-Network weights\n",
    "target_q_network.set_weights(q_network.get_weights())\n",
    "\n",
    "for i in range(num_episodes):\n",
    "    \n",
    "    # Reset the environment to the initial state and get the initial state\n",
    "    state = env.reset()\n",
    "    total_points = 0\n",
    "    \n",
    "    for t in range(max_num_timesteps):\n",
    "        \n",
    "        # From the current state S choose an action A using an ε-greedy policy\n",
    "        state_qn = np.expand_dims(state, axis=0)  # state needs to be the right shape for the q_network\n",
    "        q_values = q_network(state_qn)\n",
    "        action = utils.get_action(q_values, epsilon)\n",
    "        \n",
    "        # Take action A and receive reward R and the next state S'\n",
    "        next_state, reward, done, _ = env.step(action)\n",
    "        \n",
    "        # Store experience tuple (S,A,R,S') in the memory buffer.\n",
    "        # We store the done variable as well for convenience.\n",
    "        memory_buffer.append(experience(state, action, reward, next_state, done))\n",
    "        \n",
    "        # Only update the network every NUM_STEPS_FOR_UPDATE time steps.\n",
    "        update = utils.check_update_conditions(t, NUM_STEPS_FOR_UPDATE, memory_buffer)\n",
    "        \n",
    "        if update:\n",
    "            # Sample random mini-batch of experience tuples (S,A,R,S') from D\n",
    "            experiences = utils.get_experiences(memory_buffer)\n",
    "            \n",
    "            # Set the y targets, perform a gradient descent step,\n",
    "            # and update the network weights.\n",
    "            agent_learn(experiences, GAMMA)\n",
    "        \n",
    "        state = next_state.copy()\n",
    "        total_points += reward\n",
    "        \n",
    "        if done:\n",
    "            break\n",
    "            \n",
    "    total_point_history.append(total_points)\n",
    "    av_latest_points = np.mean(total_point_history[-num_p_av:])\n",
    "    \n",
    "    # Update the ε value\n",
    "    epsilon = utils.get_new_eps(epsilon)\n",
    "\n",
    "    print(f\"\\rEpisode {i+1} | Total point average of the last {num_p_av} episodes: {av_latest_points:.2f}\", end=\"\")\n",
    "\n",
    "    if (i+1) % num_p_av == 0:\n",
    "        print(f\"\\rEpisode {i+1} | Total point average of the last {num_p_av} episodes: {av_latest_points:.2f}\")\n",
    "\n",
    "    # We will consider that the environment is solved if we get an\n",
    "    # average of 200 points in the last 100 episodes.\n",
    "    if av_latest_points >= 200.0:\n",
    "        print(f\"\\n\\nEnvironment solved in {i+1} episodes!\")\n",
    "        q_network.save('lunar_lander_model.h5')\n",
    "        break\n",
    "        \n",
    "tot_time = time.time() - start\n",
    "\n",
    "print(f\"\\nTotal Runtime: {tot_time:.2f} s ({(tot_time/60):.2f} min)\")"
   ]
  },
  {
   "cell_type": "markdown",
   "metadata": {},
   "source": [
    "We can plot the total point history along with the moving average to see how our agent improved during training. If you want to know about the different plotting options available in the `utils.plot_history` function we encourage you to take a look at the `utils` module."
   ]
  },
  {
   "cell_type": "code",
   "execution_count": 38,
   "metadata": {
    "deletable": false,
    "editable": false,
    "id": "E_EUXxurfe8m",
    "scrolled": false
   },
   "outputs": [
    {
     "data": {
      "image/png": "[encoded data removed]",
      "text/plain": [
       "<Figure size 720x504 with 1 Axes>"
      ]
     },
     "metadata": {},
     "output_type": "display_data"
    }
   ],
   "source": [
    "# Plot the total point history along with the moving average\n",
    "utils.plot_history(total_point_history)"
   ]
  },
  {
   "cell_type": "markdown",
   "metadata": {
    "id": "c_xwgaX5MnYt"
   },
   "source": [
    "<a name=\"10\"></a>\n",
    "## 10 - See the Trained Agent In Action\n",
    "\n",
    "Now that we have trained our agent, we can see it in action. We will use the `utils.create_video` function to create a video of our agent interacting with the environment using the trained $Q$-Network. The `utils.create_video` function uses the `imageio` library to create the video. This library produces some warnings that can be distracting, so, to suppress these warnings we run the code below."
   ]
  },
  {
   "cell_type": "code",
   "execution_count": 39,
   "metadata": {
    "deletable": false,
    "editable": false
   },
   "outputs": [],
   "source": [
    "# Suppress warnings from imageio\n",
    "import logging\n",
    "logging.getLogger().setLevel(logging.ERROR)"
   ]
  },
  {
   "cell_type": "markdown",
   "metadata": {},
   "source": [
    "In the cell below we create a video of our agent interacting with the Lunar Lander environment using the trained `q_network`. The video is saved to the `videos` folder with the given `filename`. We use the `utils.embed_mp4` function to embed the video in the Jupyter Notebook so that we can see it here directly without having to download it.\n",
    "\n",
    "We should note that since the lunar lander starts with a random initial force applied to its center of mass, every time you run the cell below you will see a different video. If the agent was trained properly, it should be able to land the lunar lander in the landing pad every time, regardless of the initial force applied to its center of mass."
   ]
  },
  {
   "cell_type": "code",
   "execution_count": 40,
   "metadata": {
    "deletable": false,
    "editable": false,
    "id": "3Ttb_zLeJKiG"
   },
   "outputs": [
    {
     "data": {
      "text/html": [
       "\n",
       "    <video width=\"840\" height=\"480\" controls>\n",
       "    <source src=\"data:video/mp4;base64,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\" type=\"video/mp4\">\n",
       "    Your browser does not support the video tag.\n",
       "    </video>"
      ],
      "text/plain": [
       "<IPython.core.display.HTML object>"
      ]
     },
     "execution_count": 40,
     "metadata": {},
     "output_type": "execute_result"
    }
   ],
   "source": [
    "filename = \"./videos/lunar_lander.mp4\"\n",
    "\n",
    "utils.create_video(filename, env, q_network)\n",
    "utils.embed_mp4(filename)"
   ]
  },
  {
   "cell_type": "markdown",
   "metadata": {},
   "source": [
    "<a name=\"11\"></a>\n",
    "## 11 - Congratulations!\n",
    "\n",
    "You have successfully used Deep Q-Learning with Experience Replay to train an agent to land a lunar lander safely on a landing pad on the surface of the moon. Congratulations!"
   ]
  },
  {
   "cell_type": "markdown",
   "metadata": {},
   "source": [
    "<a name=\"12\"></a>\n",
    "## 12 - References\n",
    "\n",
    "If you would like to learn more about Deep Q-Learning, we recommend you check out the following papers.\n",
    "\n",
    "\n",
    "* Mnih, V., Kavukcuoglu, K., Silver, D. et al. Human-level control through deep reinforcement learning. Nature 518, 529–533 (2015).\n",
    "\n",
    "\n",
    "* Lillicrap, T. P., Hunt, J. J., Pritzel, A., et al. Continuous Control with Deep Reinforcement Learning. ICLR (2016).\n",
    "\n",
    "\n",
    "* Mnih, V., Kavukcuoglu, K., Silver, D. et al. Playing Atari with Deep Reinforcement Learning. arXiv e-prints.  arXiv:1312.5602 (2013)."
   ]
  },
  {
   "cell_type": "markdown",
   "metadata": {},
   "source": [
    "<details>\n",
    "  <summary><font size=\"2\" color=\"darkgreen\"><b>Please click here if you want to experiment with any of the non-graded code.</b></font></summary>\n",
    "    <p><i><b>Important Note: Please only do this when you've already passed the assignment to avoid problems with the autograder.</b></i>\n",
    "    <ol>\n",
    "        <li> On the notebook’s menu, click “View” > “Cell Toolbar” > “Edit Metadata”</li>\n",
    "        <li> Hit the “Edit Metadata” button next to the code cell which you want to lock/unlock</li>\n",
    "        <li> Set the attribute value for “editable” to:\n",
    "            <ul>\n",
    "                <li> “true” if you want to unlock it </li>\n",
    "                <li> “false” if you want to lock it </li>\n",
    "            </ul>\n",
    "        </li>\n",
    "        <li> On the notebook’s menu, click “View” > “Cell Toolbar” > “None” </li>\n",
    "    </ol>\n",
    "    <p> Here's a short demo of how to do the steps above: \n",
    "        <br>\n",
    "        <img src=\"https://drive.google.com/uc?export=view&id=14Xy_Mb17CZVgzVAgq7NCjMVBvSae3xO1\" align=\"center\" alt=\"unlock_cells.gif\">\n",
    "</details>"
   ]
  },
  {
   "cell_type": "code",
   "execution_count": null,
   "metadata": {},
   "outputs": [],
   "source": []
  }
 ],
 "metadata": {
  "accelerator": "GPU",
  "colab": {
   "collapsed_sections": [],
   "name": "TensorFlow - Lunar Lander.ipynb",
   "provenance": []
  },
  "kernelspec": {
   "display_name": "Python 3",
   "language": "python",
   "name": "python3"
  },
  "language_info": {
   "codemirror_mode": {
    "name": "ipython",
    "version": 3
   },
   "file_extension": ".py",
   "mimetype": "text/x-python",
   "name": "python",
   "nbconvert_exporter": "python",
   "pygments_lexer": "ipython3",
   "version": "3.7.6"
  }
 },
 "nbformat": 4,
 "nbformat_minor": 1
}
